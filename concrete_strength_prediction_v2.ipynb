{
  "nbformat": 4,
  "nbformat_minor": 0,
  "metadata": {
    "kernelspec": {
      "display_name": "Python 3",
      "language": "python",
      "name": "python3"
    },
    "language_info": {
      "codemirror_mode": {
        "name": "ipython",
        "version": 3
      },
      "file_extension": ".py",
      "mimetype": "text/x-python",
      "name": "python",
      "nbconvert_exporter": "python",
      "pygments_lexer": "ipython3",
      "version": "3.8.5"
    },
    "colab": {
      "name": "concrete-strength-prediction-v2.ipynb",
      "provenance": [],
      "collapsed_sections": []
    }
  },
  "cells": [
    {
      "cell_type": "code",
      "metadata": {
        "colab": {
          "base_uri": "https://localhost:8080/"
        },
        "id": "TF4_0h41wes5",
        "outputId": "4ab2d1ff-d835-45f9-f81b-6f83f716aba0"
      },
      "source": [
        "# project starts\n",
        "print(\"NSU SPRING2021 CSE465.2\")\n",
        "\n",
        "# project link\n",
        "project_link = \"https://www.kaggle.com/prathamtripathi/regression-with-neural-networking\"\n",
        "print(\"link: \", project_link)"
      ],
      "execution_count": 231,
      "outputs": [
        {
          "output_type": "stream",
          "text": [
            "NSU SPRING2021 CSE465.2\n",
            "link:  https://www.kaggle.com/prathamtripathi/regression-with-neural-networking\n"
          ],
          "name": "stdout"
        }
      ]
    },
    {
      "cell_type": "code",
      "metadata": {
        "id": "r_u_wClYwes7"
      },
      "source": [
        "# import necessary libraries\n",
        "import pandas as pd\n",
        "import seaborn as sns\n",
        "\n",
        "import numpy as np\n",
        "import matplotlib.pyplot as plt\n",
        "%matplotlib inline"
      ],
      "execution_count": 232,
      "outputs": []
    },
    {
      "cell_type": "code",
      "metadata": {
        "id": "jKRA0Xviwes9"
      },
      "source": [
        "# load dataset\n",
        "dataset_link = 'https://github.com/SabiqulHassan13/CSE465.2-SP2021-PROJECT/blob/main/concrete_data.csv?raw=true' \n",
        "df = pd.read_csv(dataset_link)"
      ],
      "execution_count": 233,
      "outputs": []
    },
    {
      "cell_type": "code",
      "metadata": {
        "colab": {
          "base_uri": "https://localhost:8080/"
        },
        "id": "Ozb_BhA6wes-",
        "outputId": "aa97707b-e4f3-4a6f-d06d-fc7670000993"
      },
      "source": [
        "df.shape"
      ],
      "execution_count": 234,
      "outputs": [
        {
          "output_type": "execute_result",
          "data": {
            "text/plain": [
              "(1030, 9)"
            ]
          },
          "metadata": {
            "tags": []
          },
          "execution_count": 234
        }
      ]
    },
    {
      "cell_type": "code",
      "metadata": {
        "colab": {
          "base_uri": "https://localhost:8080/",
          "height": 206
        },
        "id": "wRA33m8Iwes_",
        "outputId": "da12c598-8ebb-48f4-c1f9-daf02fb74cb0"
      },
      "source": [
        "df.head()"
      ],
      "execution_count": 235,
      "outputs": [
        {
          "output_type": "execute_result",
          "data": {
            "text/html": [
              "<div>\n",
              "<style scoped>\n",
              "    .dataframe tbody tr th:only-of-type {\n",
              "        vertical-align: middle;\n",
              "    }\n",
              "\n",
              "    .dataframe tbody tr th {\n",
              "        vertical-align: top;\n",
              "    }\n",
              "\n",
              "    .dataframe thead th {\n",
              "        text-align: right;\n",
              "    }\n",
              "</style>\n",
              "<table border=\"1\" class=\"dataframe\">\n",
              "  <thead>\n",
              "    <tr style=\"text-align: right;\">\n",
              "      <th></th>\n",
              "      <th>Cement</th>\n",
              "      <th>Blast Furnace Slag</th>\n",
              "      <th>Fly Ash</th>\n",
              "      <th>Water</th>\n",
              "      <th>Superplasticizer</th>\n",
              "      <th>Coarse Aggregate</th>\n",
              "      <th>Fine Aggregate</th>\n",
              "      <th>Age</th>\n",
              "      <th>Strength</th>\n",
              "    </tr>\n",
              "  </thead>\n",
              "  <tbody>\n",
              "    <tr>\n",
              "      <th>0</th>\n",
              "      <td>540.0</td>\n",
              "      <td>0.0</td>\n",
              "      <td>0.0</td>\n",
              "      <td>162.0</td>\n",
              "      <td>2.5</td>\n",
              "      <td>1040.0</td>\n",
              "      <td>676.0</td>\n",
              "      <td>28</td>\n",
              "      <td>79.99</td>\n",
              "    </tr>\n",
              "    <tr>\n",
              "      <th>1</th>\n",
              "      <td>540.0</td>\n",
              "      <td>0.0</td>\n",
              "      <td>0.0</td>\n",
              "      <td>162.0</td>\n",
              "      <td>2.5</td>\n",
              "      <td>1055.0</td>\n",
              "      <td>676.0</td>\n",
              "      <td>28</td>\n",
              "      <td>61.89</td>\n",
              "    </tr>\n",
              "    <tr>\n",
              "      <th>2</th>\n",
              "      <td>332.5</td>\n",
              "      <td>142.5</td>\n",
              "      <td>0.0</td>\n",
              "      <td>228.0</td>\n",
              "      <td>0.0</td>\n",
              "      <td>932.0</td>\n",
              "      <td>594.0</td>\n",
              "      <td>270</td>\n",
              "      <td>40.27</td>\n",
              "    </tr>\n",
              "    <tr>\n",
              "      <th>3</th>\n",
              "      <td>332.5</td>\n",
              "      <td>142.5</td>\n",
              "      <td>0.0</td>\n",
              "      <td>228.0</td>\n",
              "      <td>0.0</td>\n",
              "      <td>932.0</td>\n",
              "      <td>594.0</td>\n",
              "      <td>365</td>\n",
              "      <td>41.05</td>\n",
              "    </tr>\n",
              "    <tr>\n",
              "      <th>4</th>\n",
              "      <td>198.6</td>\n",
              "      <td>132.4</td>\n",
              "      <td>0.0</td>\n",
              "      <td>192.0</td>\n",
              "      <td>0.0</td>\n",
              "      <td>978.4</td>\n",
              "      <td>825.5</td>\n",
              "      <td>360</td>\n",
              "      <td>44.30</td>\n",
              "    </tr>\n",
              "  </tbody>\n",
              "</table>\n",
              "</div>"
            ],
            "text/plain": [
              "   Cement  Blast Furnace Slag  Fly Ash  ...  Fine Aggregate  Age  Strength\n",
              "0   540.0                 0.0      0.0  ...           676.0   28     79.99\n",
              "1   540.0                 0.0      0.0  ...           676.0   28     61.89\n",
              "2   332.5               142.5      0.0  ...           594.0  270     40.27\n",
              "3   332.5               142.5      0.0  ...           594.0  365     41.05\n",
              "4   198.6               132.4      0.0  ...           825.5  360     44.30\n",
              "\n",
              "[5 rows x 9 columns]"
            ]
          },
          "metadata": {
            "tags": []
          },
          "execution_count": 235
        }
      ]
    },
    {
      "cell_type": "code",
      "metadata": {
        "id": "n0Aq-GW3V7Vo"
      },
      "source": [
        "# df.describe()"
      ],
      "execution_count": 236,
      "outputs": []
    },
    {
      "cell_type": "code",
      "metadata": {
        "colab": {
          "base_uri": "https://localhost:8080/"
        },
        "id": "dm7I8bJbWuMR",
        "outputId": "337ff442-b40f-46ca-9f99-cc26bc9fbea7"
      },
      "source": [
        "df.info()"
      ],
      "execution_count": 237,
      "outputs": [
        {
          "output_type": "stream",
          "text": [
            "<class 'pandas.core.frame.DataFrame'>\n",
            "RangeIndex: 1030 entries, 0 to 1029\n",
            "Data columns (total 9 columns):\n",
            " #   Column              Non-Null Count  Dtype  \n",
            "---  ------              --------------  -----  \n",
            " 0   Cement              1030 non-null   float64\n",
            " 1   Blast Furnace Slag  1030 non-null   float64\n",
            " 2   Fly Ash             1030 non-null   float64\n",
            " 3   Water               1030 non-null   float64\n",
            " 4   Superplasticizer    1030 non-null   float64\n",
            " 5   Coarse Aggregate    1030 non-null   float64\n",
            " 6   Fine Aggregate      1030 non-null   float64\n",
            " 7   Age                 1030 non-null   int64  \n",
            " 8   Strength            1030 non-null   float64\n",
            "dtypes: float64(8), int64(1)\n",
            "memory usage: 72.5 KB\n"
          ],
          "name": "stdout"
        }
      ]
    },
    {
      "cell_type": "code",
      "metadata": {
        "colab": {
          "base_uri": "https://localhost:8080/"
        },
        "id": "zqk3uXXRW6dJ",
        "outputId": "3e770206-cc09-4856-96ca-42294c3e1788"
      },
      "source": [
        "# check null values\n",
        "df.isnull().sum()"
      ],
      "execution_count": 238,
      "outputs": [
        {
          "output_type": "execute_result",
          "data": {
            "text/plain": [
              "Cement                0\n",
              "Blast Furnace Slag    0\n",
              "Fly Ash               0\n",
              "Water                 0\n",
              "Superplasticizer      0\n",
              "Coarse Aggregate      0\n",
              "Fine Aggregate        0\n",
              "Age                   0\n",
              "Strength              0\n",
              "dtype: int64"
            ]
          },
          "metadata": {
            "tags": []
          },
          "execution_count": 238
        }
      ]
    },
    {
      "cell_type": "code",
      "metadata": {
        "id": "A3KLP1gwi1Gc"
      },
      "source": [
        "# import numpy as np\n",
        "# df['Strength'] = np.where(df['Strength'] >= 50, \"Strong\",\"Not Strong\")\n",
        "df['Strength'] = np.where(df['Strength'] >= 50, 1, 0)\n",
        "# df['Strength'] = torch.from_numpy(df['Strength'])"
      ],
      "execution_count": 239,
      "outputs": []
    },
    {
      "cell_type": "code",
      "metadata": {
        "colab": {
          "base_uri": "https://localhost:8080/"
        },
        "id": "CycGAvpgm4D5",
        "outputId": "2111a6cf-28c9-4fa8-8086-48a3bf2d191a"
      },
      "source": [
        "df['Strength']"
      ],
      "execution_count": 240,
      "outputs": [
        {
          "output_type": "execute_result",
          "data": {
            "text/plain": [
              "0       1\n",
              "1       1\n",
              "2       0\n",
              "3       0\n",
              "4       0\n",
              "       ..\n",
              "1025    0\n",
              "1026    0\n",
              "1027    0\n",
              "1028    0\n",
              "1029    0\n",
              "Name: Strength, Length: 1030, dtype: int64"
            ]
          },
          "metadata": {
            "tags": []
          },
          "execution_count": 240
        }
      ]
    },
    {
      "cell_type": "code",
      "metadata": {
        "colab": {
          "base_uri": "https://localhost:8080/",
          "height": 206
        },
        "id": "l8Y_2jIyjJJ4",
        "outputId": "a2312855-1ee0-4fbe-ebcb-9a4ffd6a13c0"
      },
      "source": [
        "df.head()"
      ],
      "execution_count": 241,
      "outputs": [
        {
          "output_type": "execute_result",
          "data": {
            "text/html": [
              "<div>\n",
              "<style scoped>\n",
              "    .dataframe tbody tr th:only-of-type {\n",
              "        vertical-align: middle;\n",
              "    }\n",
              "\n",
              "    .dataframe tbody tr th {\n",
              "        vertical-align: top;\n",
              "    }\n",
              "\n",
              "    .dataframe thead th {\n",
              "        text-align: right;\n",
              "    }\n",
              "</style>\n",
              "<table border=\"1\" class=\"dataframe\">\n",
              "  <thead>\n",
              "    <tr style=\"text-align: right;\">\n",
              "      <th></th>\n",
              "      <th>Cement</th>\n",
              "      <th>Blast Furnace Slag</th>\n",
              "      <th>Fly Ash</th>\n",
              "      <th>Water</th>\n",
              "      <th>Superplasticizer</th>\n",
              "      <th>Coarse Aggregate</th>\n",
              "      <th>Fine Aggregate</th>\n",
              "      <th>Age</th>\n",
              "      <th>Strength</th>\n",
              "    </tr>\n",
              "  </thead>\n",
              "  <tbody>\n",
              "    <tr>\n",
              "      <th>0</th>\n",
              "      <td>540.0</td>\n",
              "      <td>0.0</td>\n",
              "      <td>0.0</td>\n",
              "      <td>162.0</td>\n",
              "      <td>2.5</td>\n",
              "      <td>1040.0</td>\n",
              "      <td>676.0</td>\n",
              "      <td>28</td>\n",
              "      <td>1</td>\n",
              "    </tr>\n",
              "    <tr>\n",
              "      <th>1</th>\n",
              "      <td>540.0</td>\n",
              "      <td>0.0</td>\n",
              "      <td>0.0</td>\n",
              "      <td>162.0</td>\n",
              "      <td>2.5</td>\n",
              "      <td>1055.0</td>\n",
              "      <td>676.0</td>\n",
              "      <td>28</td>\n",
              "      <td>1</td>\n",
              "    </tr>\n",
              "    <tr>\n",
              "      <th>2</th>\n",
              "      <td>332.5</td>\n",
              "      <td>142.5</td>\n",
              "      <td>0.0</td>\n",
              "      <td>228.0</td>\n",
              "      <td>0.0</td>\n",
              "      <td>932.0</td>\n",
              "      <td>594.0</td>\n",
              "      <td>270</td>\n",
              "      <td>0</td>\n",
              "    </tr>\n",
              "    <tr>\n",
              "      <th>3</th>\n",
              "      <td>332.5</td>\n",
              "      <td>142.5</td>\n",
              "      <td>0.0</td>\n",
              "      <td>228.0</td>\n",
              "      <td>0.0</td>\n",
              "      <td>932.0</td>\n",
              "      <td>594.0</td>\n",
              "      <td>365</td>\n",
              "      <td>0</td>\n",
              "    </tr>\n",
              "    <tr>\n",
              "      <th>4</th>\n",
              "      <td>198.6</td>\n",
              "      <td>132.4</td>\n",
              "      <td>0.0</td>\n",
              "      <td>192.0</td>\n",
              "      <td>0.0</td>\n",
              "      <td>978.4</td>\n",
              "      <td>825.5</td>\n",
              "      <td>360</td>\n",
              "      <td>0</td>\n",
              "    </tr>\n",
              "  </tbody>\n",
              "</table>\n",
              "</div>"
            ],
            "text/plain": [
              "   Cement  Blast Furnace Slag  Fly Ash  ...  Fine Aggregate  Age  Strength\n",
              "0   540.0                 0.0      0.0  ...           676.0   28         1\n",
              "1   540.0                 0.0      0.0  ...           676.0   28         1\n",
              "2   332.5               142.5      0.0  ...           594.0  270         0\n",
              "3   332.5               142.5      0.0  ...           594.0  365         0\n",
              "4   198.6               132.4      0.0  ...           825.5  360         0\n",
              "\n",
              "[5 rows x 9 columns]"
            ]
          },
          "metadata": {
            "tags": []
          },
          "execution_count": 241
        }
      ]
    },
    {
      "cell_type": "code",
      "metadata": {
        "colab": {
          "base_uri": "https://localhost:8080/"
        },
        "id": "DRgoIV9PywtU",
        "outputId": "0c5ef0da-6516-41d6-e251-f2fe60ae864b"
      },
      "source": [
        "df.columns"
      ],
      "execution_count": 242,
      "outputs": [
        {
          "output_type": "execute_result",
          "data": {
            "text/plain": [
              "Index(['Cement', 'Blast Furnace Slag', 'Fly Ash', 'Water', 'Superplasticizer',\n",
              "       'Coarse Aggregate', 'Fine Aggregate', 'Age', 'Strength'],\n",
              "      dtype='object')"
            ]
          },
          "metadata": {
            "tags": []
          },
          "execution_count": 242
        }
      ]
    },
    {
      "cell_type": "code",
      "metadata": {
        "id": "5QBvw_ONeDc7"
      },
      "source": [
        "# draw pairplot\n",
        "# sns.pairplot(df, hue=\"Strength\")"
      ],
      "execution_count": 243,
      "outputs": []
    },
    {
      "cell_type": "code",
      "metadata": {
        "id": "2xdWokEEzHl6"
      },
      "source": [
        "### independent features\n",
        "df_X = df.drop('Strength',axis=1).values\n",
        "\n",
        "###dependent features\n",
        "df_y = df['Strength'].values"
      ],
      "execution_count": 244,
      "outputs": []
    },
    {
      "cell_type": "code",
      "metadata": {
        "id": "9rKdQ7hLzH1E"
      },
      "source": [
        "# df_y"
      ],
      "execution_count": 245,
      "outputs": []
    },
    {
      "cell_type": "code",
      "metadata": {
        "id": "YQVBuQEezrwl"
      },
      "source": [
        "# split dataset into train and test part\n",
        "from sklearn.model_selection import train_test_split\n",
        "\n",
        "X_train,X_test,y_train,y_test = train_test_split(df_X, df_y, test_size=0.2, random_state=0)"
      ],
      "execution_count": 246,
      "outputs": []
    },
    {
      "cell_type": "code",
      "metadata": {
        "id": "9tQQpJ5l_rOh"
      },
      "source": [
        "# Import Libraries From Pytorch\n",
        "import torch\n",
        "import torch.nn as nn\n",
        "import torch.nn.functional as F"
      ],
      "execution_count": 247,
      "outputs": []
    },
    {
      "cell_type": "code",
      "metadata": {
        "id": "XK56l4rTAH9C"
      },
      "source": [
        "# Creating Tensors\n",
        "\n",
        "X_train=torch.FloatTensor(X_train)\n",
        "X_test=torch.FloatTensor(X_test)\n",
        "y_train=torch.LongTensor(y_train)\n",
        "y_test=torch.LongTensor(y_test)\n",
        "\n",
        "# X_train = torch.FloatTensor(X_train)\n",
        "# y_train = torch.LongTensor(y_train)\n",
        "\n",
        "# X_test = torch.FloatTensor(X_test)\n",
        "# y_test = torch.LongTensor(y_test)"
      ],
      "execution_count": 248,
      "outputs": []
    },
    {
      "cell_type": "code",
      "metadata": {
        "colab": {
          "base_uri": "https://localhost:8080/"
        },
        "id": "5SR-uXjTAIIA",
        "outputId": "0cb70da9-b4d9-4390-e6b0-99bc285231e0"
      },
      "source": [
        "df.shape"
      ],
      "execution_count": 249,
      "outputs": [
        {
          "output_type": "execute_result",
          "data": {
            "text/plain": [
              "(1030, 9)"
            ]
          },
          "metadata": {
            "tags": []
          },
          "execution_count": 249
        }
      ]
    },
    {
      "cell_type": "code",
      "metadata": {
        "id": "tm1VvrQQbcIk"
      },
      "source": [
        "# Creating Model with Pytorch\n",
        "\n",
        "class ANN_Model(nn.Module):\n",
        "    def __init__(self, input_features=8, hidden1=20, hidden2=20, out_features=2):\n",
        "        super().__init__()\n",
        "        self.f_connected1=nn.Linear(input_features, hidden1)\n",
        "        self.f_connected2=nn.Linear(hidden1, hidden2)\n",
        "        self.out=nn.Linear(hidden2, out_features)\n",
        "\n",
        "    def forward(self,x):\n",
        "        x=F.relu(self.f_connected1(x))\n",
        "        x=F.relu(self.f_connected2(x))\n",
        "        x=self.out(x)\n",
        "        return x"
      ],
      "execution_count": 250,
      "outputs": []
    },
    {
      "cell_type": "code",
      "metadata": {
        "id": "RPt_CIPJddCX"
      },
      "source": [
        "# instantiate my ANN_model\n",
        "\n",
        "torch.manual_seed(20)\n",
        "model=ANN_Model()"
      ],
      "execution_count": 251,
      "outputs": []
    },
    {
      "cell_type": "code",
      "metadata": {
        "colab": {
          "base_uri": "https://localhost:8080/"
        },
        "id": "yMNdTyGaddS8",
        "outputId": "8c61fd89-4541-4fa0-85df-b1322b19693e"
      },
      "source": [
        "model.parameters"
      ],
      "execution_count": 252,
      "outputs": [
        {
          "output_type": "execute_result",
          "data": {
            "text/plain": [
              "<bound method Module.parameters of ANN_Model(\n",
              "  (f_connected1): Linear(in_features=8, out_features=20, bias=True)\n",
              "  (f_connected2): Linear(in_features=20, out_features=20, bias=True)\n",
              "  (out): Linear(in_features=20, out_features=2, bias=True)\n",
              ")>"
            ]
          },
          "metadata": {
            "tags": []
          },
          "execution_count": 252
        }
      ]
    },
    {
      "cell_type": "code",
      "metadata": {
        "id": "r6hXTK5pdtMh"
      },
      "source": [
        "# Backward Propogation\n",
        "# Define the loss_function, define the optimizer\n",
        "\n",
        "loss_function = nn.CrossEntropyLoss()\n",
        "optimizer = torch.optim.Adam(model.parameters(),lr=0.01)"
      ],
      "execution_count": 253,
      "outputs": []
    },
    {
      "cell_type": "code",
      "metadata": {
        "colab": {
          "base_uri": "https://localhost:8080/"
        },
        "id": "w0MlByHAd6tL",
        "outputId": "b06fc4ed-7b24-4be5-f20e-d08fbfa6678b"
      },
      "source": [
        "# model train\n",
        "\n",
        "train_epochs = 500\n",
        "train_final_losses = []\n",
        "for i in range(train_epochs):\n",
        "    i = i+1\n",
        "    y_pred = model.forward(X_train)\n",
        "    loss = loss_function(y_pred, y_train)\n",
        "    train_final_losses.append(loss)\n",
        "\n",
        "    if i%10 == 1:\n",
        "        print(\"Epoch number: {} and the loss : {}\".format(i, loss.item()))\n",
        "    optimizer.zero_grad()\n",
        "    loss.backward()\n",
        "    optimizer.step()"
      ],
      "execution_count": 254,
      "outputs": [
        {
          "output_type": "stream",
          "text": [
            "Epoch number: 1 and the loss : 28.750164031982422\n",
            "Epoch number: 11 and the loss : 2.49957013130188\n",
            "Epoch number: 21 and the loss : 0.5796645283699036\n",
            "Epoch number: 31 and the loss : 0.5693684816360474\n",
            "Epoch number: 41 and the loss : 0.4664495885372162\n",
            "Epoch number: 51 and the loss : 0.44231918454170227\n",
            "Epoch number: 61 and the loss : 0.4369106888771057\n",
            "Epoch number: 71 and the loss : 0.43053364753723145\n",
            "Epoch number: 81 and the loss : 0.4222095310688019\n",
            "Epoch number: 91 and the loss : 0.41339749097824097\n",
            "Epoch number: 101 and the loss : 0.40512359142303467\n",
            "Epoch number: 111 and the loss : 0.3978123068809509\n",
            "Epoch number: 121 and the loss : 0.39175668358802795\n",
            "Epoch number: 131 and the loss : 0.3866528272628784\n",
            "Epoch number: 141 and the loss : 0.3819583058357239\n",
            "Epoch number: 151 and the loss : 0.3773375451564789\n",
            "Epoch number: 161 and the loss : 0.3728252053260803\n",
            "Epoch number: 171 and the loss : 0.3683287501335144\n",
            "Epoch number: 181 and the loss : 0.3639497756958008\n",
            "Epoch number: 191 and the loss : 0.359480619430542\n",
            "Epoch number: 201 and the loss : 0.35477176308631897\n",
            "Epoch number: 211 and the loss : 0.3501916229724884\n",
            "Epoch number: 221 and the loss : 0.34601473808288574\n",
            "Epoch number: 231 and the loss : 0.34187814593315125\n",
            "Epoch number: 241 and the loss : 0.33770084381103516\n",
            "Epoch number: 251 and the loss : 0.3330605626106262\n",
            "Epoch number: 261 and the loss : 0.3283500671386719\n",
            "Epoch number: 271 and the loss : 0.3238788843154907\n",
            "Epoch number: 281 and the loss : 0.3197445273399353\n",
            "Epoch number: 291 and the loss : 0.3160676956176758\n",
            "Epoch number: 301 and the loss : 0.31262537837028503\n",
            "Epoch number: 311 and the loss : 0.3091703951358795\n",
            "Epoch number: 321 and the loss : 0.30588117241859436\n",
            "Epoch number: 331 and the loss : 0.3027037978172302\n",
            "Epoch number: 341 and the loss : 0.29986879229545593\n",
            "Epoch number: 351 and the loss : 0.29704904556274414\n",
            "Epoch number: 361 and the loss : 0.29417863488197327\n",
            "Epoch number: 371 and the loss : 0.29149022698402405\n",
            "Epoch number: 381 and the loss : 0.2890220880508423\n",
            "Epoch number: 391 and the loss : 0.28678104281425476\n",
            "Epoch number: 401 and the loss : 0.28480595350265503\n",
            "Epoch number: 411 and the loss : 0.28299790620803833\n",
            "Epoch number: 421 and the loss : 0.2814747095108032\n",
            "Epoch number: 431 and the loss : 0.2801051437854767\n",
            "Epoch number: 441 and the loss : 0.27886953949928284\n",
            "Epoch number: 451 and the loss : 0.27765408158302307\n",
            "Epoch number: 461 and the loss : 0.2765105068683624\n",
            "Epoch number: 471 and the loss : 0.2754755914211273\n",
            "Epoch number: 481 and the loss : 0.27448657155036926\n",
            "Epoch number: 491 and the loss : 0.2732986509799957\n"
          ],
          "name": "stdout"
        }
      ]
    },
    {
      "cell_type": "code",
      "metadata": {
        "colab": {
          "base_uri": "https://localhost:8080/",
          "height": 300
        },
        "id": "QD5YMELid6u4",
        "outputId": "4b524a4e-0f49-4e08-83e4-88dcf25effde"
      },
      "source": [
        "# plot the loss function\n",
        "\n",
        "plt.plot(range(train_epochs), train_final_losses)\n",
        "plt.ylabel('Loss')\n",
        "plt.xlabel('Epoch')"
      ],
      "execution_count": 255,
      "outputs": [
        {
          "output_type": "execute_result",
          "data": {
            "text/plain": [
              "Text(0.5, 0, 'Epoch')"
            ]
          },
          "metadata": {
            "tags": []
          },
          "execution_count": 255
        },
        {
          "output_type": "display_data",
          "data": {
            "image/png": "[encoded data removed]",
            "text/plain": [
              "<Figure size 432x288 with 1 Axes>"
            ]
          },
          "metadata": {
            "tags": [],
            "needs_background": "light"
          }
        }
      ]
    },
    {
      "cell_type": "code",
      "metadata": {
        "colab": {
          "base_uri": "https://localhost:8080/"
        },
        "id": "CLQLkvlVAS03",
        "outputId": "9ebb5b34-9f1d-407b-f8dd-77bc25d162e2"
      },
      "source": [
        "# model dev\n",
        "\n",
        "dev_epochs = 500\n",
        "dev_final_losses = []\n",
        "for i in range(dev_epochs):\n",
        "    i = i+1\n",
        "    y_pred = model.forward(X_test)\n",
        "    loss = loss_function(y_pred, y_test)\n",
        "    dev_final_losses.append(loss)\n",
        "\n",
        "    if i%10 == 1:\n",
        "        print(\"Epoch number: {} and the loss : {}\".format(i, loss.item()))\n",
        "    optimizer.zero_grad()\n",
        "    loss.backward()\n",
        "    optimizer.step()"
      ],
      "execution_count": 256,
      "outputs": [
        {
          "output_type": "stream",
          "text": [
            "Epoch number: 1 and the loss : 0.2812763750553131\n",
            "Epoch number: 11 and the loss : 0.2565577030181885\n",
            "Epoch number: 21 and the loss : 0.24746458232402802\n",
            "Epoch number: 31 and the loss : 0.24176183342933655\n",
            "Epoch number: 41 and the loss : 0.2354450523853302\n",
            "Epoch number: 51 and the loss : 0.23211568593978882\n",
            "Epoch number: 61 and the loss : 0.2288675755262375\n",
            "Epoch number: 71 and the loss : 0.22669555246829987\n",
            "Epoch number: 81 and the loss : 0.22569061815738678\n",
            "Epoch number: 91 and the loss : 0.22447417676448822\n",
            "Epoch number: 101 and the loss : 0.22368544340133667\n",
            "Epoch number: 111 and the loss : 0.2233545184135437\n",
            "Epoch number: 121 and the loss : 0.22365136444568634\n",
            "Epoch number: 131 and the loss : 0.2227233350276947\n",
            "Epoch number: 141 and the loss : 0.22242270410060883\n",
            "Epoch number: 151 and the loss : 0.2225704938173294\n",
            "Epoch number: 161 and the loss : 0.22131124138832092\n",
            "Epoch number: 171 and the loss : 0.2214759886264801\n",
            "Epoch number: 181 and the loss : 0.22094076871871948\n",
            "Epoch number: 191 and the loss : 0.2209278643131256\n",
            "Epoch number: 201 and the loss : 0.2210274040699005\n",
            "Epoch number: 211 and the loss : 0.2205132246017456\n",
            "Epoch number: 221 and the loss : 0.22109898924827576\n",
            "Epoch number: 231 and the loss : 0.22222717106342316\n",
            "Epoch number: 241 and the loss : 0.2203981876373291\n",
            "Epoch number: 251 and the loss : 0.22038795053958893\n",
            "Epoch number: 261 and the loss : 0.2202620804309845\n",
            "Epoch number: 271 and the loss : 0.2202116698026657\n",
            "Epoch number: 281 and the loss : 0.22019743919372559\n",
            "Epoch number: 291 and the loss : 0.22019343078136444\n",
            "Epoch number: 301 and the loss : 0.22018751502037048\n",
            "Epoch number: 311 and the loss : 0.22018326818943024\n",
            "Epoch number: 321 and the loss : 0.2201804369688034\n",
            "Epoch number: 331 and the loss : 0.22026965022087097\n",
            "Epoch number: 341 and the loss : 0.2203855663537979\n",
            "Epoch number: 351 and the loss : 0.22040170431137085\n",
            "Epoch number: 361 and the loss : 0.22022557258605957\n",
            "Epoch number: 371 and the loss : 0.22020235657691956\n",
            "Epoch number: 381 and the loss : 0.22035568952560425\n",
            "Epoch number: 391 and the loss : 0.2202797681093216\n",
            "Epoch number: 401 and the loss : 0.2206069976091385\n",
            "Epoch number: 411 and the loss : 0.22052901983261108\n",
            "Epoch number: 421 and the loss : 0.22049745917320251\n",
            "Epoch number: 431 and the loss : 0.22022564709186554\n",
            "Epoch number: 441 and the loss : 0.22019803524017334\n",
            "Epoch number: 451 and the loss : 0.22021791338920593\n",
            "Epoch number: 461 and the loss : 0.22019846737384796\n",
            "Epoch number: 471 and the loss : 0.2202156037092209\n",
            "Epoch number: 481 and the loss : 0.2202160805463791\n",
            "Epoch number: 491 and the loss : 0.2202226221561432\n"
          ],
          "name": "stdout"
        }
      ]
    },
    {
      "cell_type": "code",
      "metadata": {
        "colab": {
          "base_uri": "https://localhost:8080/",
          "height": 297
        },
        "id": "DtNPRYEEAl3w",
        "outputId": "72dfbe62-e473-4e69-e83c-63db443f722b"
      },
      "source": [
        "# plot the loss function\n",
        "\n",
        "plt.plot(range(dev_epochs), dev_final_losses)\n",
        "plt.ylabel('Loss')\n",
        "plt.xlabel('Epoch')"
      ],
      "execution_count": 257,
      "outputs": [
        {
          "output_type": "execute_result",
          "data": {
            "text/plain": [
              "Text(0.5, 0, 'Epoch')"
            ]
          },
          "metadata": {
            "tags": []
          },
          "execution_count": 257
        },
        {
          "output_type": "display_data",
          "data": {
            "image/png": "[encoded data removed]",
            "text/plain": [
              "<Figure size 432x288 with 1 Axes>"
            ]
          },
          "metadata": {
            "tags": [],
            "needs_background": "light"
          }
        }
      ]
    },
    {
      "cell_type": "code",
      "metadata": {
        "id": "PdWaRFraDnQ5"
      },
      "source": [
        "#### Prediction In X_train data\n",
        "\n",
        "train_predictions=[]\n",
        "with torch.no_grad():\n",
        "    for i,data in enumerate(X_train):\n",
        "        y_pred = model(data)\n",
        "        train_predictions.append(y_pred.argmax().item())\n",
        "        # print(y_pred.argmax().item())"
      ],
      "execution_count": 258,
      "outputs": []
    },
    {
      "cell_type": "code",
      "metadata": {
        "colab": {
          "base_uri": "https://localhost:8080/"
        },
        "id": "ggMaywLKD8PV",
        "outputId": "f9bd31fd-0caa-45b5-809a-d66035657b6f"
      },
      "source": [
        "from sklearn.metrics import confusion_matrix\n",
        "\n",
        "train_cm = confusion_matrix(y_train, train_predictions)\n",
        "train_cm"
      ],
      "execution_count": 259,
      "outputs": [
        {
          "output_type": "execute_result",
          "data": {
            "text/plain": [
              "array([[576,  78],\n",
              "       [ 45, 125]])"
            ]
          },
          "metadata": {
            "tags": []
          },
          "execution_count": 259
        }
      ]
    },
    {
      "cell_type": "code",
      "metadata": {
        "colab": {
          "base_uri": "https://localhost:8080/",
          "height": 406
        },
        "id": "yRD8MQOZD8ek",
        "outputId": "a8ed1477-06ce-4f72-e57f-898e358dea4d"
      },
      "source": [
        "# train confusion matrix\n",
        "plt.figure(figsize=(10,6))\n",
        "sns.heatmap(train_cm,annot=True)\n",
        "plt.xlabel('Actual Values')\n",
        "plt.ylabel('Predicted Values')"
      ],
      "execution_count": 260,
      "outputs": [
        {
          "output_type": "execute_result",
          "data": {
            "text/plain": [
              "Text(69.0, 0.5, 'Predicted Values')"
            ]
          },
          "metadata": {
            "tags": []
          },
          "execution_count": 260
        },
        {
          "output_type": "display_data",
          "data": {
            "image/png": "[encoded data removed]",
            "text/plain": [
              "<Figure size 720x432 with 2 Axes>"
            ]
          },
          "metadata": {
            "tags": [],
            "needs_background": "light"
          }
        }
      ]
    },
    {
      "cell_type": "code",
      "metadata": {
        "id": "sB7znVCed6yz"
      },
      "source": [
        "#### Prediction In X_test data\n",
        "\n",
        "dev_predictions=[]\n",
        "with torch.no_grad():\n",
        "    for i,data in enumerate(X_test):\n",
        "        y_pred = model(data)\n",
        "        dev_predictions.append(y_pred.argmax().item())\n",
        "        # print(y_pred.argmax().item())"
      ],
      "execution_count": 261,
      "outputs": []
    },
    {
      "cell_type": "code",
      "metadata": {
        "colab": {
          "base_uri": "https://localhost:8080/"
        },
        "id": "4Lpplwe1npDI",
        "outputId": "49e07b27-1aa3-4dc2-ab39-b4daabc18759"
      },
      "source": [
        "from sklearn.metrics import confusion_matrix\n",
        "\n",
        "dev_cm = confusion_matrix(y_test, dev_predictions)\n",
        "dev_cm"
      ],
      "execution_count": 262,
      "outputs": [
        {
          "output_type": "execute_result",
          "data": {
            "text/plain": [
              "array([[155,  11],\n",
              "       [ 10,  30]])"
            ]
          },
          "metadata": {
            "tags": []
          },
          "execution_count": 262
        }
      ]
    },
    {
      "cell_type": "code",
      "metadata": {
        "colab": {
          "base_uri": "https://localhost:8080/",
          "height": 406
        },
        "id": "eXJaiAGDn5ow",
        "outputId": "d7117527-394b-48d2-d449-3ffa937fc3a2"
      },
      "source": [
        "# dev confusion matrix\n",
        "plt.figure(figsize=(10,6))\n",
        "sns.heatmap(dev_cm,annot=True)\n",
        "plt.xlabel('Actual Values')\n",
        "plt.ylabel('Predicted Values')"
      ],
      "execution_count": 263,
      "outputs": [
        {
          "output_type": "execute_result",
          "data": {
            "text/plain": [
              "Text(69.0, 0.5, 'Predicted Values')"
            ]
          },
          "metadata": {
            "tags": []
          },
          "execution_count": 263
        },
        {
          "output_type": "display_data",
          "data": {
            "image/png": "[encoded data removed]",
            "text/plain": [
              "<Figure size 720x432 with 2 Axes>"
            ]
          },
          "metadata": {
            "tags": [],
            "needs_background": "light"
          }
        }
      ]
    },
    {
      "cell_type": "code",
      "metadata": {
        "colab": {
          "base_uri": "https://localhost:8080/"
        },
        "id": "v5rlX9rEoHHX",
        "outputId": "92cdd95b-3e29-4e59-d64b-8aa59cefc604"
      },
      "source": [
        "from sklearn.metrics import accuracy_score, log_loss\n",
        "\n",
        "# accuracy\n",
        "train_accuracy = accuracy_score(y_train, train_predictions)\n",
        "print(\"Train accuracy: {}\".format(train_accuracy))\n",
        "\n",
        "dev_accuracy = accuracy_score(y_test, dev_predictions)\n",
        "print(\"Dev accuracy: {}\".format(dev_accuracy))\n",
        "\n",
        "\n",
        "# loss\n",
        "train_loss = log_loss(y_train, train_predictions)\n",
        "print(\"Train loss: {}\".format(train_loss))\n",
        "\n",
        "dev_loss = log_loss(y_test, dev_predictions)\n",
        "print(\"Dev loss: {}\".format(dev_loss))"
      ],
      "execution_count": 264,
      "outputs": [
        {
          "output_type": "stream",
          "text": [
            "Train accuracy: 0.8507281553398058\n",
            "Dev accuracy: 0.8980582524271845\n",
            "Train loss: 5.155742554822294\n",
            "Dev loss: 3.5209859216740615\n"
          ],
          "name": "stdout"
        }
      ]
    },
    {
      "cell_type": "code",
      "metadata": {
        "id": "bf2jiYv6oIX8"
      },
      "source": [
        ""
      ],
      "execution_count": 264,
      "outputs": []
    }
  ]
}